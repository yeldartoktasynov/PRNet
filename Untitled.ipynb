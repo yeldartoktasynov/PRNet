{
 "cells": [
  {
   "cell_type": "code",
   "execution_count": 2,
   "metadata": {},
   "outputs": [],
   "source": [
    "def find1(vertices, triangles, h, w):\n",
    "    for i in range(triangles.shape[1]):\n",
    "        tri = triangles[:, i] # 3 vertex indices\n",
    "\n",
    "        # the inner bounding box\n",
    "        umin = max(int(np.ceil(np.min(vertices[0,tri]))), 0)\n",
    "        umax = min(int(np.floor(np.max(vertices[0,tri]))), w-1)\n",
    "\n",
    "        vmin = max(int(np.ceil(np.min(vertices[1,tri]))), 0)\n",
    "        vmax = min(int(np.floor(np.max(vertices[1,tri]))), h-1)\n",
    "\n",
    "        print(vmin, vmax, umin, umax)\n",
    "        if (umax >= umin) and (vmax >= vmin):\n",
    "            print(i)\n",
    "            break"
   ]
  },
  {
   "cell_type": "code",
   "execution_count": 3,
   "metadata": {},
   "outputs": [],
   "source": [
    "umin, umax = 0, 0\n",
    "vmin, vmax = 66, 66"
   ]
  },
  {
   "cell_type": "code",
   "execution_count": 4,
   "metadata": {},
   "outputs": [
    {
     "name": "stdout",
     "output_type": "stream",
     "text": [
      "0 66\n"
     ]
    }
   ],
   "source": [
    "for u in range(umin, umax+1):\n",
    "    for v in range(vmin, vmax+1):\n",
    "        print(u, v)"
   ]
  },
  {
   "cell_type": "code",
   "execution_count": null,
   "metadata": {},
   "outputs": [],
   "source": []
  }
 ],
 "metadata": {
  "kernelspec": {
   "display_name": "tf1",
   "language": "python",
   "name": "python3"
  },
  "language_info": {
   "codemirror_mode": {
    "name": "ipython",
    "version": 3
   },
   "file_extension": ".py",
   "mimetype": "text/x-python",
   "name": "python",
   "nbconvert_exporter": "python",
   "pygments_lexer": "ipython3",
   "version": "3.12.1"
  }
 },
 "nbformat": 4,
 "nbformat_minor": 2
}
